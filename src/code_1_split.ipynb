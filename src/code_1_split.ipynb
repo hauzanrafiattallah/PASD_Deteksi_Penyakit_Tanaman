{
 "cells": [
  {
   "cell_type": "markdown",
   "metadata": {},
   "source": [
    "# Import"
   ]
  },
  {
   "cell_type": "markdown",
   "metadata": {},
   "source": [
    "Libraries"
   ]
  },
  {
   "cell_type": "code",
   "execution_count": 20,
   "metadata": {},
   "outputs": [],
   "source": [
    "import os\n",
    "import pandas as pd\n",
    "from sklearn.model_selection import train_test_split"
   ]
  },
  {
   "cell_type": "markdown",
   "metadata": {},
   "source": [
    "Path"
   ]
  },
  {
   "cell_type": "code",
   "execution_count": null,
   "metadata": {},
   "outputs": [],
   "source": [
    "dir_main = r\"C:\\Users\\user\\Desktop\\Projects\\PASD_Deteksi_Penyakit_Tanaman\\Dataset_Segmented\"\n",
    "\n",
    "dir_raw = dir_main+\"/raw\"\n",
    "dir_split = dir_main+\"/split\""
   ]
  },
  {
   "cell_type": "markdown",
   "metadata": {},
   "source": [
    "Load Dataframe"
   ]
  },
  {
   "cell_type": "code",
   "execution_count": null,
   "metadata": {},
   "outputs": [],
   "source": [
    "df = pd.read_excel(r\"C:\\Users\\user\\Desktop\\Projects\\PASD_Deteksi_Penyakit_Tanaman\\Dataset\\dataset.xlsx\")"
   ]
  },
  {
   "cell_type": "markdown",
   "metadata": {},
   "source": [
    "# Splitting"
   ]
  },
  {
   "cell_type": "markdown",
   "metadata": {},
   "source": [
    "Split train : val : test (7 : 2 : 1)"
   ]
  },
  {
   "cell_type": "code",
   "execution_count": 23,
   "metadata": {},
   "outputs": [],
   "source": [
    "X_train, X_testval, y_train, y_testval = train_test_split(df[\"file_name\"], df[\"label\"], stratify=df[\"label\"], test_size=0.2, random_state=21)\n",
    "X_test, X_val, y_test, y_val = train_test_split(X_testval, y_testval, stratify=y_testval, test_size=0.5, random_state=21)"
   ]
  },
  {
   "cell_type": "markdown",
   "metadata": {},
   "source": [
    "Save as excel"
   ]
  },
  {
   "cell_type": "code",
   "execution_count": 24,
   "metadata": {},
   "outputs": [],
   "source": [
    "df_train = pd.concat([X_train, y_train], axis=1)\n",
    "df_test = pd.concat([X_test, y_test], axis=1)\n",
    "df_val = pd.concat([X_val, y_val], axis=1)\n",
    "\n",
    "df_train.to_excel(os.path.join(dir_split, \"train.xlsx\"), index=False)\n",
    "df_test.to_excel(os.path.join(dir_split, \"test.xlsx\"), index=False)\n",
    "df_val.to_excel(os.path.join(dir_split, \"val.xlsx\"), index=False)"
   ]
  },
  {
   "cell_type": "markdown",
   "metadata": {},
   "source": [
    "Checking Amount of Data"
   ]
  },
  {
   "cell_type": "code",
   "execution_count": 25,
   "metadata": {},
   "outputs": [
    {
     "name": "stdout",
     "output_type": "stream",
     "text": [
      "14528 1816 1816\n"
     ]
    }
   ],
   "source": [
    "print(len(df_train), len(df_test), len(df_val))"
   ]
  },
  {
   "cell_type": "code",
   "execution_count": 26,
   "metadata": {},
   "outputs": [
    {
     "name": "stdout",
     "output_type": "stream",
     "text": [
      "18160 18160\n"
     ]
    }
   ],
   "source": [
    "print(len(df_train)+len(df_test)+len(df_val), len(df))"
   ]
  }
 ],
 "metadata": {
  "kernelspec": {
   "display_name": "Python 3",
   "language": "python",
   "name": "python3"
  },
  "language_info": {
   "codemirror_mode": {
    "name": "ipython",
    "version": 3
   },
   "file_extension": ".py",
   "mimetype": "text/x-python",
   "name": "python",
   "nbconvert_exporter": "python",
   "pygments_lexer": "ipython3",
   "version": "3.12.4"
  }
 },
 "nbformat": 4,
 "nbformat_minor": 2
}
