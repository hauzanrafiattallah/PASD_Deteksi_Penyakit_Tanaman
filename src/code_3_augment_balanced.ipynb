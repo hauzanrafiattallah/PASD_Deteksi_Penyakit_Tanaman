{
 "cells": [
  {
   "cell_type": "markdown",
   "metadata": {},
   "source": [
    "# Import"
   ]
  },
  {
   "cell_type": "markdown",
   "metadata": {},
   "source": [
    "Libraries"
   ]
  },
  {
   "cell_type": "code",
   "execution_count": 16,
   "metadata": {},
   "outputs": [],
   "source": [
    "import os\n",
    "import shutil\n",
    "import tensorflow as tf\n",
    "import pandas as pd\n",
    "import numpy as np\n",
    "from tensorflow.keras.preprocessing.image import ImageDataGenerator\n",
    "from PIL import Image, ImageEnhance\n",
    "import random"
   ]
  },
  {
   "cell_type": "code",
   "execution_count": 17,
   "metadata": {},
   "outputs": [],
   "source": [
    "np.random.seed(21)\n",
    "tf.random.set_seed(21)"
   ]
  },
  {
   "cell_type": "markdown",
   "metadata": {},
   "source": [
    "Path"
   ]
  },
  {
   "cell_type": "code",
   "execution_count": null,
   "metadata": {},
   "outputs": [],
   "source": [
    "dir_main = r\"C:\\Users\\USER\\Desktop\\Projects\\PASD_Deteksi_Penyakit_Tanaman\\Dataset_Preprocessed\"\n",
    "\n",
    "dir_input = dir_main+\"/train\"\n",
    "dir_output = dir_main+\"/train_aug\""
   ]
  },
  {
   "cell_type": "code",
   "execution_count": 19,
   "metadata": {},
   "outputs": [
    {
     "data": {
      "text/plain": [
       "['bacterial_spot',\n",
       " 'early_blight',\n",
       " 'healthy',\n",
       " 'late_blight',\n",
       " 'leaf_mold',\n",
       " 'mosaic_virus',\n",
       " 'septoria_leaf_spot',\n",
       " 'spider_mites',\n",
       " 'target_spot',\n",
       " 'yellow_leaf_curl_virus']"
      ]
     },
     "execution_count": 19,
     "metadata": {},
     "output_type": "execute_result"
    }
   ],
   "source": [
    "os.listdir(dir_input)"
   ]
  },
  {
   "cell_type": "markdown",
   "metadata": {},
   "source": [
    "## Augment and Move train data"
   ]
  },
  {
   "cell_type": "markdown",
   "metadata": {},
   "source": [
    "Create folders in output"
   ]
  },
  {
   "cell_type": "code",
   "execution_count": 20,
   "metadata": {},
   "outputs": [],
   "source": [
    "for folder in os.listdir(dir_input):\n",
    "    if folder not in os.listdir(dir_output):\n",
    "        os.mkdir(os.path.join(dir_output, folder))"
   ]
  },
  {
   "cell_type": "markdown",
   "metadata": {},
   "source": [
    "Checking"
   ]
  },
  {
   "cell_type": "code",
   "execution_count": 21,
   "metadata": {},
   "outputs": [
    {
     "name": "stdout",
     "output_type": "stream",
     "text": [
      "bacterial_spot  : 1702\n",
      "early_blight  : 800\n",
      "healthy  : 1273\n",
      "late_blight  : 1527\n",
      "leaf_mold  : 761\n",
      "mosaic_virus  : 298\n",
      "septoria_leaf_spot  : 1417\n",
      "spider_mites  : 1341\n",
      "target_spot  : 1123\n",
      "yellow_leaf_curl_virus  : 4286\n"
     ]
    }
   ],
   "source": [
    "for folder in os.listdir(dir_input):\n",
    "    print(folder, \" :\", len(os.listdir(os.path.join(dir_input, folder))))"
   ]
  },
  {
   "cell_type": "markdown",
   "metadata": {},
   "source": [
    "# Augmenting"
   ]
  },
  {
   "cell_type": "markdown",
   "metadata": {},
   "source": [
    "## Tomato___Tomato_Yellow_Leaf_Curl_Virus"
   ]
  },
  {
   "cell_type": "code",
   "execution_count": null,
   "metadata": {},
   "outputs": [],
   "source": [
    "dir_label_1 = dir_output+\"/Tomato___Tomato_Yellow_Leaf_Curl_Virus\""
   ]
  },
  {
   "cell_type": "code",
   "execution_count": null,
   "metadata": {},
   "outputs": [],
   "source": [
    "# Copy original\n",
    "for file in os.listdir(dir_input+\"/Tomato___Tomato_Yellow_Leaf_Curl_Virus\"):\n",
    "    if file not in os.listdir(dir_output+\"/Tomato___Tomato_Yellow_Leaf_Curl_Virus\"):\n",
    "        shutil.copyfile(os.path.join(dir_input+\"/Tomato___Tomato_Yellow_Leaf_Curl_Virus\", file), os.path.join(dir_label_1, file))\n",
    "\n",
    "len(os.listdir(dir_label_1))"
   ]
  },
  {
   "cell_type": "code",
   "execution_count": 52,
   "metadata": {},
   "outputs": [
    {
     "data": {
      "text/plain": [
       "9807"
      ]
     },
     "execution_count": 52,
     "metadata": {},
     "output_type": "execute_result"
    }
   ],
   "source": [
    "# Augment flip horizontal\n",
    "list_image = os.listdir(dir_label_1)\n",
    "for file in list_image:\n",
    "    img_path = os.path.join(dir_label_1, file)\n",
    "    img = Image.open(img_path)\n",
    "    flipped_img = img.transpose(Image.FLIP_LEFT_RIGHT)\n",
    "    \n",
    "    base_name, ext = os.path.splitext(file)\n",
    "    flipped_img.save(os.path.join(dir_label_1, f\"{base_name}_flipped.JPG\"))\n",
    "\n",
    "len(os.listdir(dir_label_1))"
   ]
  },
  {
   "cell_type": "code",
   "execution_count": 55,
   "metadata": {},
   "outputs": [
    {
     "data": {
      "text/plain": [
       "10000"
      ]
     },
     "execution_count": 55,
     "metadata": {},
     "output_type": "execute_result"
    }
   ],
   "source": [
    "# Augment flip vertical\n",
    "list_image = os.listdir(dir_label_1)\n",
    "\n",
    "for file in list_image:\n",
    "    if len(os.listdir(dir_label_1))==10000:\n",
    "        break\n",
    "    \n",
    "    img_path = os.path.join(dir_label_1, file)\n",
    "    img = Image.open(img_path)\n",
    "    flipped_img = img.transpose(Image.FLIP_TOP_BOTTOM)\n",
    "    \n",
    "    base_name, ext = os.path.splitext(file)\n",
    "    flipped_img.save(os.path.join(dir_label_1, f\"{base_name}_flipped.JPG\"))\n",
    "\n",
    "len(os.listdir(dir_label_1))"
   ]
  },
  {
   "cell_type": "markdown",
   "metadata": {},
   "source": [
    "## Tomato___Bacterial_spot"
   ]
  },
  {
   "cell_type": "code",
   "execution_count": 57,
   "metadata": {},
   "outputs": [],
   "source": [
    "dir_label_2 = dir_output+\"/Tomato___Bacterial_spot\""
   ]
  },
  {
   "cell_type": "code",
   "execution_count": 58,
   "metadata": {},
   "outputs": [
    {
     "data": {
      "text/plain": [
       "1702"
      ]
     },
     "execution_count": 58,
     "metadata": {},
     "output_type": "execute_result"
    }
   ],
   "source": [
    "# Copy original\n",
    "for file in os.listdir(dir_input+\"/Tomato___Bacterial_spot\"):\n",
    "    if file not in os.listdir(dir_label_2):\n",
    "        shutil.copyfile(os.path.join(dir_input+\"/Tomato___Bacterial_spot\", file), os.path.join(dir_label_2, file))\n",
    "\n",
    "len(os.listdir(dir_label_2))"
   ]
  },
  {
   "cell_type": "code",
   "execution_count": 59,
   "metadata": {},
   "outputs": [
    {
     "data": {
      "text/plain": [
       "3404"
      ]
     },
     "execution_count": 59,
     "metadata": {},
     "output_type": "execute_result"
    }
   ],
   "source": [
    "# Augment flip horizontal\n",
    "list_image = os.listdir(dir_label_2)\n",
    "for file in list_image:\n",
    "    img_path = os.path.join(dir_label_2, file)\n",
    "    img = Image.open(img_path)\n",
    "    flipped_img = img.transpose(Image.FLIP_LEFT_RIGHT)\n",
    "    \n",
    "    base_name, ext = os.path.splitext(file)\n",
    "    flipped_img.save(os.path.join(dir_label_2, f\"{base_name}_flipped.JPG\"))\n",
    "\n",
    "len(os.listdir(dir_label_2))"
   ]
  },
  {
   "cell_type": "code",
   "execution_count": 60,
   "metadata": {},
   "outputs": [
    {
     "data": {
      "text/plain": [
       "5106"
      ]
     },
     "execution_count": 60,
     "metadata": {},
     "output_type": "execute_result"
    }
   ],
   "source": [
    "# Augment flip vertical\n",
    "list_image = os.listdir(dir_label_2)\n",
    "\n",
    "for file in list_image:\n",
    "    img_path = os.path.join(dir_label_2, file)\n",
    "    img = Image.open(img_path)\n",
    "    flipped_img = img.transpose(Image.FLIP_TOP_BOTTOM)\n",
    "    \n",
    "    base_name, ext = os.path.splitext(file)\n",
    "    flipped_img.save(os.path.join(dir_label_2, f\"{base_name}_flipped.JPG\"))\n",
    "\n",
    "len(os.listdir(dir_label_2))"
   ]
  },
  {
   "cell_type": "code",
   "execution_count": 63,
   "metadata": {},
   "outputs": [
    {
     "data": {
      "text/plain": [
       "10000"
      ]
     },
     "execution_count": 63,
     "metadata": {},
     "output_type": "execute_result"
    }
   ],
   "source": [
    "# Augment recolor\n",
    "list_image = os.listdir(dir_label_2)\n",
    "\n",
    "for file in list_image:\n",
    "    if len(os.listdir(dir_label_2))==10000:\n",
    "        break\n",
    "    \n",
    "    img_path = os.path.join(dir_label_2, file)\n",
    "    img = Image.open(img_path)\n",
    "    \n",
    "    enhancer = ImageEnhance.Brightness(img)\n",
    "    brightness_factor = random.uniform(0.7, 1.3)\n",
    "    img = enhancer.enhance(brightness_factor)\n",
    "    \n",
    "    enhancer = ImageEnhance.Contrast(img)\n",
    "    contrast_factor = random.uniform(0.7, 1.3)\n",
    "    img = enhancer.enhance(contrast_factor)\n",
    "    \n",
    "    enhancer = ImageEnhance.Color(img)\n",
    "    saturation_factor = random.uniform(0.7, 1.3)\n",
    "    img = enhancer.enhance(saturation_factor)\n",
    "    \n",
    "    enhancer = ImageEnhance.Sharpness(img)\n",
    "    sharpness_factor = random.uniform(0.7, 1.3)\n",
    "    img = enhancer.enhance(sharpness_factor)\n",
    "    \n",
    "    base_name, ext = os.path.splitext(file)\n",
    "    img.save(os.path.join(dir_label_2, f\"{base_name}_recolored.JPG\"))\n",
    "\n",
    "len(os.listdir(dir_label_2))"
   ]
  },
  {
   "cell_type": "markdown",
   "metadata": {},
   "source": [
    "## Tomato___Late_blight"
   ]
  },
  {
   "cell_type": "code",
   "execution_count": 64,
   "metadata": {},
   "outputs": [],
   "source": [
    "dir_label_3 = dir_output+\"/Tomato___Late_blight\""
   ]
  },
  {
   "cell_type": "code",
   "execution_count": 65,
   "metadata": {},
   "outputs": [
    {
     "data": {
      "text/plain": [
       "1527"
      ]
     },
     "execution_count": 65,
     "metadata": {},
     "output_type": "execute_result"
    }
   ],
   "source": [
    "# Copy original\n",
    "for file in os.listdir(dir_input+\"/Tomato___Late_blight\"):\n",
    "    if file not in os.listdir(dir_label_3):\n",
    "        shutil.copyfile(os.path.join(dir_input+\"/Tomato___Late_blight\", file), os.path.join(dir_label_3, file))\n",
    "\n",
    "len(os.listdir(dir_label_3))"
   ]
  },
  {
   "cell_type": "code",
   "execution_count": 66,
   "metadata": {},
   "outputs": [
    {
     "data": {
      "text/plain": [
       "3054"
      ]
     },
     "execution_count": 66,
     "metadata": {},
     "output_type": "execute_result"
    }
   ],
   "source": [
    "# Augment flip horizontal\n",
    "list_image = os.listdir(dir_label_3)\n",
    "for file in list_image:\n",
    "    img_path = os.path.join(dir_label_3, file)\n",
    "    img = Image.open(img_path)\n",
    "    flipped_img = img.transpose(Image.FLIP_LEFT_RIGHT)\n",
    "    \n",
    "    base_name, ext = os.path.splitext(file)\n",
    "    flipped_img.save(os.path.join(dir_label_3, f\"{base_name}_flipped.JPG\"))\n",
    "\n",
    "len(os.listdir(dir_label_3))"
   ]
  },
  {
   "cell_type": "code",
   "execution_count": 67,
   "metadata": {},
   "outputs": [
    {
     "data": {
      "text/plain": [
       "4581"
      ]
     },
     "execution_count": 67,
     "metadata": {},
     "output_type": "execute_result"
    }
   ],
   "source": [
    "# Augment flip vertical\n",
    "list_image = os.listdir(dir_label_3)\n",
    "\n",
    "for file in list_image:\n",
    "    img_path = os.path.join(dir_label_3, file)\n",
    "    img = Image.open(img_path)\n",
    "    flipped_img = img.transpose(Image.FLIP_TOP_BOTTOM)\n",
    "    \n",
    "    base_name, ext = os.path.splitext(file)\n",
    "    flipped_img.save(os.path.join(dir_label_3, f\"{base_name}_flipped.JPG\"))\n",
    "\n",
    "len(os.listdir(dir_label_3))"
   ]
  },
  {
   "cell_type": "code",
   "execution_count": 68,
   "metadata": {},
   "outputs": [
    {
     "data": {
      "text/plain": [
       "9162"
      ]
     },
     "execution_count": 68,
     "metadata": {},
     "output_type": "execute_result"
    }
   ],
   "source": [
    "# Augment recolor\n",
    "list_image = os.listdir(dir_label_3)\n",
    "\n",
    "for file in list_image:\n",
    "    img_path = os.path.join(dir_label_3, file)\n",
    "    img = Image.open(img_path)\n",
    "    \n",
    "    enhancer = ImageEnhance.Brightness(img)\n",
    "    brightness_factor = random.uniform(0.7, 1.3)\n",
    "    img = enhancer.enhance(brightness_factor)\n",
    "    \n",
    "    enhancer = ImageEnhance.Contrast(img)\n",
    "    contrast_factor = random.uniform(0.7, 1.3)\n",
    "    img = enhancer.enhance(contrast_factor)\n",
    "    \n",
    "    enhancer = ImageEnhance.Color(img)\n",
    "    saturation_factor = random.uniform(0.7, 1.3)\n",
    "    img = enhancer.enhance(saturation_factor)\n",
    "    \n",
    "    enhancer = ImageEnhance.Sharpness(img)\n",
    "    sharpness_factor = random.uniform(0.7, 1.3)\n",
    "    img = enhancer.enhance(sharpness_factor)\n",
    "    \n",
    "    base_name, ext = os.path.splitext(file)\n",
    "    img.save(os.path.join(dir_label_3, f\"{base_name}_recolored.JPG\"))\n",
    "\n",
    "len(os.listdir(dir_label_3))"
   ]
  },
  {
   "cell_type": "code",
   "execution_count": 69,
   "metadata": {},
   "outputs": [
    {
     "data": {
      "text/plain": [
       "10000"
      ]
     },
     "execution_count": 69,
     "metadata": {},
     "output_type": "execute_result"
    }
   ],
   "source": [
    "list_image = os.listdir(dir_label_3)\n",
    "\n",
    "for file in list_image:\n",
    "    if len(os.listdir(dir_label_3)) == 10000:\n",
    "        break\n",
    "    \n",
    "    img_path = os.path.join(dir_label_3, file)\n",
    "    img = Image.open(img_path)\n",
    "    \n",
    "    rotated_img = img.rotate(15)\n",
    "    \n",
    "    base_name, ext = os.path.splitext(file)\n",
    "    rotated_img.save(os.path.join(dir_label_3, f\"{base_name}_rotated_15.JPG\"))\n",
    "\n",
    "len(os.listdir(dir_label_3))"
   ]
  },
  {
   "cell_type": "markdown",
   "metadata": {},
   "source": [
    "## Tomato___Septoria_leaf_spot"
   ]
  },
  {
   "cell_type": "code",
   "execution_count": 70,
   "metadata": {},
   "outputs": [],
   "source": [
    "dir_label_4 = dir_output+\"/Tomato___Septoria_leaf_spot\""
   ]
  },
  {
   "cell_type": "code",
   "execution_count": 71,
   "metadata": {},
   "outputs": [
    {
     "data": {
      "text/plain": [
       "1417"
      ]
     },
     "execution_count": 71,
     "metadata": {},
     "output_type": "execute_result"
    }
   ],
   "source": [
    "# Copy original\n",
    "for file in os.listdir(dir_input+\"/Tomato___Septoria_leaf_spot\"):\n",
    "    if file not in os.listdir(dir_label_4):\n",
    "        shutil.copyfile(os.path.join(dir_input+\"/Tomato___Septoria_leaf_spot\", file), os.path.join(dir_label_4, file))\n",
    "\n",
    "len(os.listdir(dir_label_4))"
   ]
  },
  {
   "cell_type": "code",
   "execution_count": 72,
   "metadata": {},
   "outputs": [
    {
     "data": {
      "text/plain": [
       "2834"
      ]
     },
     "execution_count": 72,
     "metadata": {},
     "output_type": "execute_result"
    }
   ],
   "source": [
    "# Augment flip horizontal\n",
    "list_image = os.listdir(dir_label_4)\n",
    "for file in list_image:\n",
    "    img_path = os.path.join(dir_label_4, file)\n",
    "    img = Image.open(img_path)\n",
    "    flipped_img = img.transpose(Image.FLIP_LEFT_RIGHT)\n",
    "    \n",
    "    base_name, ext = os.path.splitext(file)\n",
    "    flipped_img.save(os.path.join(dir_label_4, f\"{base_name}_flipped.JPG\"))\n",
    "\n",
    "len(os.listdir(dir_label_4))"
   ]
  },
  {
   "cell_type": "code",
   "execution_count": 73,
   "metadata": {},
   "outputs": [
    {
     "data": {
      "text/plain": [
       "4251"
      ]
     },
     "execution_count": 73,
     "metadata": {},
     "output_type": "execute_result"
    }
   ],
   "source": [
    "# Augment flip vertical\n",
    "list_image = os.listdir(dir_label_4)\n",
    "\n",
    "for file in list_image:\n",
    "    img_path = os.path.join(dir_label_4, file)\n",
    "    img = Image.open(img_path)\n",
    "    flipped_img = img.transpose(Image.FLIP_TOP_BOTTOM)\n",
    "    \n",
    "    base_name, ext = os.path.splitext(file)\n",
    "    flipped_img.save(os.path.join(dir_label_4, f\"{base_name}_flipped.JPG\"))\n",
    "\n",
    "len(os.listdir(dir_label_4))"
   ]
  },
  {
   "cell_type": "code",
   "execution_count": 74,
   "metadata": {},
   "outputs": [
    {
     "data": {
      "text/plain": [
       "8502"
      ]
     },
     "execution_count": 74,
     "metadata": {},
     "output_type": "execute_result"
    }
   ],
   "source": [
    "# Augment recolor\n",
    "list_image = os.listdir(dir_label_4)\n",
    "\n",
    "for file in list_image:\n",
    "    img_path = os.path.join(dir_label_4, file)\n",
    "    img = Image.open(img_path)\n",
    "    \n",
    "    enhancer = ImageEnhance.Brightness(img)\n",
    "    brightness_factor = random.uniform(0.7, 1.3)\n",
    "    img = enhancer.enhance(brightness_factor)\n",
    "    \n",
    "    enhancer = ImageEnhance.Contrast(img)\n",
    "    contrast_factor = random.uniform(0.7, 1.3)\n",
    "    img = enhancer.enhance(contrast_factor)\n",
    "    \n",
    "    enhancer = ImageEnhance.Color(img)\n",
    "    saturation_factor = random.uniform(0.7, 1.3)\n",
    "    img = enhancer.enhance(saturation_factor)\n",
    "    \n",
    "    enhancer = ImageEnhance.Sharpness(img)\n",
    "    sharpness_factor = random.uniform(0.7, 1.3)\n",
    "    img = enhancer.enhance(sharpness_factor)\n",
    "    \n",
    "    base_name, ext = os.path.splitext(file)\n",
    "    img.save(os.path.join(dir_label_4, f\"{base_name}_recolored.JPG\"))\n",
    "\n",
    "len(os.listdir(dir_label_4))"
   ]
  },
  {
   "cell_type": "code",
   "execution_count": 75,
   "metadata": {},
   "outputs": [
    {
     "data": {
      "text/plain": [
       "10000"
      ]
     },
     "execution_count": 75,
     "metadata": {},
     "output_type": "execute_result"
    }
   ],
   "source": [
    "list_image = os.listdir(dir_label_4)\n",
    "\n",
    "for file in list_image:\n",
    "    if len(os.listdir(dir_label_4)) == 10000:\n",
    "        break\n",
    "    \n",
    "    img_path = os.path.join(dir_label_4, file)\n",
    "    img = Image.open(img_path)\n",
    "    \n",
    "    rotated_img = img.rotate(15)\n",
    "    \n",
    "    base_name, ext = os.path.splitext(file)\n",
    "    rotated_img.save(os.path.join(dir_label_4, f\"{base_name}_rotated_15.JPG\"))\n",
    "\n",
    "len(os.listdir(dir_label_4))"
   ]
  },
  {
   "cell_type": "markdown",
   "metadata": {},
   "source": [
    "## Tomato___Spider_mites Two-spotted_spider_mite"
   ]
  },
  {
   "cell_type": "code",
   "execution_count": 76,
   "metadata": {},
   "outputs": [],
   "source": [
    "dir_label_5 = dir_output+\"/Tomato___Spider_mites Two-spotted_spider_mite\""
   ]
  },
  {
   "cell_type": "code",
   "execution_count": 77,
   "metadata": {},
   "outputs": [
    {
     "data": {
      "text/plain": [
       "1341"
      ]
     },
     "execution_count": 77,
     "metadata": {},
     "output_type": "execute_result"
    }
   ],
   "source": [
    "# Copy original\n",
    "for file in os.listdir(dir_input+\"/Tomato___Spider_mites Two-spotted_spider_mite\"):\n",
    "    if file not in os.listdir(dir_label_5):\n",
    "        shutil.copyfile(os.path.join(dir_input+\"/Tomato___Spider_mites Two-spotted_spider_mite\", file), os.path.join(dir_label_5, file))\n",
    "\n",
    "len(os.listdir(dir_label_5))"
   ]
  },
  {
   "cell_type": "code",
   "execution_count": 78,
   "metadata": {},
   "outputs": [
    {
     "data": {
      "text/plain": [
       "2682"
      ]
     },
     "execution_count": 78,
     "metadata": {},
     "output_type": "execute_result"
    }
   ],
   "source": [
    "# Augment flip horizontal\n",
    "list_image = os.listdir(dir_label_5)\n",
    "for file in list_image:\n",
    "    img_path = os.path.join(dir_label_5, file)\n",
    "    img = Image.open(img_path)\n",
    "    flipped_img = img.transpose(Image.FLIP_LEFT_RIGHT)\n",
    "    \n",
    "    base_name, ext = os.path.splitext(file)\n",
    "    flipped_img.save(os.path.join(dir_label_5, f\"{base_name}_flipped.JPG\"))\n",
    "\n",
    "len(os.listdir(dir_label_5))"
   ]
  },
  {
   "cell_type": "code",
   "execution_count": 79,
   "metadata": {},
   "outputs": [
    {
     "data": {
      "text/plain": [
       "4023"
      ]
     },
     "execution_count": 79,
     "metadata": {},
     "output_type": "execute_result"
    }
   ],
   "source": [
    "# Augment flip vertical\n",
    "list_image = os.listdir(dir_label_5)\n",
    "\n",
    "for file in list_image:\n",
    "    img_path = os.path.join(dir_label_5, file)\n",
    "    img = Image.open(img_path)\n",
    "    flipped_img = img.transpose(Image.FLIP_TOP_BOTTOM)\n",
    "    \n",
    "    base_name, ext = os.path.splitext(file)\n",
    "    flipped_img.save(os.path.join(dir_label_5, f\"{base_name}_flipped.JPG\"))\n",
    "\n",
    "len(os.listdir(dir_label_5))"
   ]
  },
  {
   "cell_type": "code",
   "execution_count": 80,
   "metadata": {},
   "outputs": [
    {
     "data": {
      "text/plain": [
       "8046"
      ]
     },
     "execution_count": 80,
     "metadata": {},
     "output_type": "execute_result"
    }
   ],
   "source": [
    "# Augment recolor\n",
    "list_image = os.listdir(dir_label_5)\n",
    "\n",
    "for file in list_image:\n",
    "    img_path = os.path.join(dir_label_5, file)\n",
    "    img = Image.open(img_path)\n",
    "    \n",
    "    enhancer = ImageEnhance.Brightness(img)\n",
    "    brightness_factor = random.uniform(0.7, 1.3)\n",
    "    img = enhancer.enhance(brightness_factor)\n",
    "    \n",
    "    enhancer = ImageEnhance.Contrast(img)\n",
    "    contrast_factor = random.uniform(0.7, 1.3)\n",
    "    img = enhancer.enhance(contrast_factor)\n",
    "    \n",
    "    enhancer = ImageEnhance.Color(img)\n",
    "    saturation_factor = random.uniform(0.7, 1.3)\n",
    "    img = enhancer.enhance(saturation_factor)\n",
    "    \n",
    "    enhancer = ImageEnhance.Sharpness(img)\n",
    "    sharpness_factor = random.uniform(0.7, 1.3)\n",
    "    img = enhancer.enhance(sharpness_factor)\n",
    "    \n",
    "    base_name, ext = os.path.splitext(file)\n",
    "    img.save(os.path.join(dir_label_5, f\"{base_name}_recolored.JPG\"))\n",
    "\n",
    "len(os.listdir(dir_label_5))"
   ]
  },
  {
   "cell_type": "code",
   "execution_count": 81,
   "metadata": {},
   "outputs": [
    {
     "data": {
      "text/plain": [
       "10000"
      ]
     },
     "execution_count": 81,
     "metadata": {},
     "output_type": "execute_result"
    }
   ],
   "source": [
    "list_image = os.listdir(dir_label_5)\n",
    "\n",
    "for file in list_image:\n",
    "    if len(os.listdir(dir_label_5)) == 10000:\n",
    "        break\n",
    "    \n",
    "    img_path = os.path.join(dir_label_5, file)\n",
    "    img = Image.open(img_path)\n",
    "    \n",
    "    rotated_img = img.rotate(15)\n",
    "    \n",
    "    base_name, ext = os.path.splitext(file)\n",
    "    rotated_img.save(os.path.join(dir_label_5, f\"{base_name}_rotated_15.JPG\"))\n",
    "\n",
    "len(os.listdir(dir_label_5))"
   ]
  },
  {
   "cell_type": "markdown",
   "metadata": {},
   "source": [
    "## Tomato___healthy"
   ]
  },
  {
   "cell_type": "code",
   "execution_count": 82,
   "metadata": {},
   "outputs": [],
   "source": [
    "dir_label_6 = dir_output+\"/Tomato___healthy\""
   ]
  },
  {
   "cell_type": "code",
   "execution_count": 83,
   "metadata": {},
   "outputs": [
    {
     "data": {
      "text/plain": [
       "1273"
      ]
     },
     "execution_count": 83,
     "metadata": {},
     "output_type": "execute_result"
    }
   ],
   "source": [
    "# Copy original\n",
    "for file in os.listdir(dir_input+\"/Tomato___healthy\"):\n",
    "    if file not in os.listdir(dir_label_6):\n",
    "        shutil.copyfile(os.path.join(dir_input+\"/Tomato___healthy\", file), os.path.join(dir_label_6, file))\n",
    "\n",
    "len(os.listdir(dir_label_6))"
   ]
  },
  {
   "cell_type": "code",
   "execution_count": 84,
   "metadata": {},
   "outputs": [
    {
     "data": {
      "text/plain": [
       "2546"
      ]
     },
     "execution_count": 84,
     "metadata": {},
     "output_type": "execute_result"
    }
   ],
   "source": [
    "# Augment flip horizontal\n",
    "list_image = os.listdir(dir_label_6)\n",
    "for file in list_image:\n",
    "    img_path = os.path.join(dir_label_6, file)\n",
    "    img = Image.open(img_path)\n",
    "    flipped_img = img.transpose(Image.FLIP_LEFT_RIGHT)\n",
    "    \n",
    "    base_name, ext = os.path.splitext(file)\n",
    "    flipped_img.save(os.path.join(dir_label_6, f\"{base_name}_flipped.JPG\"))\n",
    "\n",
    "len(os.listdir(dir_label_6))"
   ]
  },
  {
   "cell_type": "code",
   "execution_count": 85,
   "metadata": {},
   "outputs": [
    {
     "data": {
      "text/plain": [
       "3819"
      ]
     },
     "execution_count": 85,
     "metadata": {},
     "output_type": "execute_result"
    }
   ],
   "source": [
    "# Augment flip vertical\n",
    "list_image = os.listdir(dir_label_6)\n",
    "\n",
    "for file in list_image:\n",
    "    img_path = os.path.join(dir_label_6, file)\n",
    "    img = Image.open(img_path)\n",
    "    flipped_img = img.transpose(Image.FLIP_TOP_BOTTOM)\n",
    "    \n",
    "    base_name, ext = os.path.splitext(file)\n",
    "    flipped_img.save(os.path.join(dir_label_6, f\"{base_name}_flipped.JPG\"))\n",
    "\n",
    "len(os.listdir(dir_label_6))"
   ]
  },
  {
   "cell_type": "code",
   "execution_count": 86,
   "metadata": {},
   "outputs": [
    {
     "data": {
      "text/plain": [
       "7638"
      ]
     },
     "execution_count": 86,
     "metadata": {},
     "output_type": "execute_result"
    }
   ],
   "source": [
    "# Augment recolor\n",
    "list_image = os.listdir(dir_label_6)\n",
    "\n",
    "for file in list_image:\n",
    "    img_path = os.path.join(dir_label_6, file)\n",
    "    img = Image.open(img_path)\n",
    "    \n",
    "    enhancer = ImageEnhance.Brightness(img)\n",
    "    brightness_factor = random.uniform(0.7, 1.3)\n",
    "    img = enhancer.enhance(brightness_factor)\n",
    "    \n",
    "    enhancer = ImageEnhance.Contrast(img)\n",
    "    contrast_factor = random.uniform(0.7, 1.3)\n",
    "    img = enhancer.enhance(contrast_factor)\n",
    "    \n",
    "    enhancer = ImageEnhance.Color(img)\n",
    "    saturation_factor = random.uniform(0.7, 1.3)\n",
    "    img = enhancer.enhance(saturation_factor)\n",
    "    \n",
    "    enhancer = ImageEnhance.Sharpness(img)\n",
    "    sharpness_factor = random.uniform(0.7, 1.3)\n",
    "    img = enhancer.enhance(sharpness_factor)\n",
    "    \n",
    "    base_name, ext = os.path.splitext(file)\n",
    "    img.save(os.path.join(dir_label_6, f\"{base_name}_recolored.JPG\"))\n",
    "\n",
    "len(os.listdir(dir_label_6))"
   ]
  },
  {
   "cell_type": "code",
   "execution_count": 87,
   "metadata": {},
   "outputs": [
    {
     "data": {
      "text/plain": [
       "10000"
      ]
     },
     "execution_count": 87,
     "metadata": {},
     "output_type": "execute_result"
    }
   ],
   "source": [
    "list_image = os.listdir(dir_label_6)\n",
    "\n",
    "for file in list_image:\n",
    "    if len(os.listdir(dir_label_6)) == 10000:\n",
    "        break\n",
    "    \n",
    "    img_path = os.path.join(dir_label_6, file)\n",
    "    img = Image.open(img_path)\n",
    "    \n",
    "    rotated_img = img.rotate(15)\n",
    "    \n",
    "    base_name, ext = os.path.splitext(file)\n",
    "    rotated_img.save(os.path.join(dir_label_6, f\"{base_name}_rotated_15.JPG\"))\n",
    "\n",
    "len(os.listdir(dir_label_6))"
   ]
  },
  {
   "cell_type": "markdown",
   "metadata": {},
   "source": [
    "## Tomato___Target_Spot"
   ]
  },
  {
   "cell_type": "code",
   "execution_count": 88,
   "metadata": {},
   "outputs": [],
   "source": [
    "dir_label_7 = dir_output+\"/Tomato___Target_Spot\""
   ]
  },
  {
   "cell_type": "code",
   "execution_count": 89,
   "metadata": {},
   "outputs": [
    {
     "data": {
      "text/plain": [
       "1123"
      ]
     },
     "execution_count": 89,
     "metadata": {},
     "output_type": "execute_result"
    }
   ],
   "source": [
    "# Copy original\n",
    "for file in os.listdir(dir_input+\"/Tomato___Target_Spot\"):\n",
    "    if file not in os.listdir(dir_label_7):\n",
    "        shutil.copyfile(os.path.join(dir_input+\"/Tomato___Target_Spot\", file), os.path.join(dir_label_7, file))\n",
    "\n",
    "len(os.listdir(dir_label_7))"
   ]
  },
  {
   "cell_type": "code",
   "execution_count": 90,
   "metadata": {},
   "outputs": [
    {
     "data": {
      "text/plain": [
       "2246"
      ]
     },
     "execution_count": 90,
     "metadata": {},
     "output_type": "execute_result"
    }
   ],
   "source": [
    "# Augment flip horizontal\n",
    "list_image = os.listdir(dir_label_7)\n",
    "for file in list_image:\n",
    "    img_path = os.path.join(dir_label_7, file)\n",
    "    img = Image.open(img_path)\n",
    "    flipped_img = img.transpose(Image.FLIP_LEFT_RIGHT)\n",
    "    \n",
    "    base_name, ext = os.path.splitext(file)\n",
    "    flipped_img.save(os.path.join(dir_label_7, f\"{base_name}_flipped.JPG\"))\n",
    "\n",
    "len(os.listdir(dir_label_7))"
   ]
  },
  {
   "cell_type": "code",
   "execution_count": 91,
   "metadata": {},
   "outputs": [
    {
     "data": {
      "text/plain": [
       "3369"
      ]
     },
     "execution_count": 91,
     "metadata": {},
     "output_type": "execute_result"
    }
   ],
   "source": [
    "# Augment flip vertical\n",
    "list_image = os.listdir(dir_label_7)\n",
    "\n",
    "for file in list_image:\n",
    "    img_path = os.path.join(dir_label_7, file)\n",
    "    img = Image.open(img_path)\n",
    "    flipped_img = img.transpose(Image.FLIP_TOP_BOTTOM)\n",
    "    \n",
    "    base_name, ext = os.path.splitext(file)\n",
    "    flipped_img.save(os.path.join(dir_label_7, f\"{base_name}_flipped.JPG\"))\n",
    "\n",
    "len(os.listdir(dir_label_7))"
   ]
  },
  {
   "cell_type": "code",
   "execution_count": 92,
   "metadata": {},
   "outputs": [
    {
     "data": {
      "text/plain": [
       "6738"
      ]
     },
     "execution_count": 92,
     "metadata": {},
     "output_type": "execute_result"
    }
   ],
   "source": [
    "# Augment recolor\n",
    "list_image = os.listdir(dir_label_7)\n",
    "\n",
    "for file in list_image:\n",
    "    img_path = os.path.join(dir_label_7, file)\n",
    "    img = Image.open(img_path)\n",
    "    \n",
    "    enhancer = ImageEnhance.Brightness(img)\n",
    "    brightness_factor = random.uniform(0.7, 1.3)\n",
    "    img = enhancer.enhance(brightness_factor)\n",
    "    \n",
    "    enhancer = ImageEnhance.Contrast(img)\n",
    "    contrast_factor = random.uniform(0.7, 1.3)\n",
    "    img = enhancer.enhance(contrast_factor)\n",
    "    \n",
    "    enhancer = ImageEnhance.Color(img)\n",
    "    saturation_factor = random.uniform(0.7, 1.3)\n",
    "    img = enhancer.enhance(saturation_factor)\n",
    "    \n",
    "    enhancer = ImageEnhance.Sharpness(img)\n",
    "    sharpness_factor = random.uniform(0.7, 1.3)\n",
    "    img = enhancer.enhance(sharpness_factor)\n",
    "    \n",
    "    base_name, ext = os.path.splitext(file)\n",
    "    img.save(os.path.join(dir_label_7, f\"{base_name}_recolored.JPG\"))\n",
    "\n",
    "len(os.listdir(dir_label_7))"
   ]
  },
  {
   "cell_type": "code",
   "execution_count": 93,
   "metadata": {},
   "outputs": [
    {
     "data": {
      "text/plain": [
       "10000"
      ]
     },
     "execution_count": 93,
     "metadata": {},
     "output_type": "execute_result"
    }
   ],
   "source": [
    "list_image = os.listdir(dir_label_7)\n",
    "\n",
    "for file in list_image:\n",
    "    if len(os.listdir(dir_label_7)) == 10000:\n",
    "        break\n",
    "    \n",
    "    img_path = os.path.join(dir_label_7, file)\n",
    "    img = Image.open(img_path)\n",
    "    \n",
    "    rotated_img = img.rotate(15)\n",
    "    \n",
    "    base_name, ext = os.path.splitext(file)\n",
    "    rotated_img.save(os.path.join(dir_label_7, f\"{base_name}_rotated_15.JPG\"))\n",
    "\n",
    "len(os.listdir(dir_label_7))"
   ]
  },
  {
   "cell_type": "markdown",
   "metadata": {},
   "source": [
    "## Tomato___Early_blight"
   ]
  },
  {
   "cell_type": "code",
   "execution_count": 94,
   "metadata": {},
   "outputs": [],
   "source": [
    "dir_label_8 = dir_output+\"/Tomato___Early_blight\""
   ]
  },
  {
   "cell_type": "code",
   "execution_count": 95,
   "metadata": {},
   "outputs": [
    {
     "data": {
      "text/plain": [
       "800"
      ]
     },
     "execution_count": 95,
     "metadata": {},
     "output_type": "execute_result"
    }
   ],
   "source": [
    "# Copy original\n",
    "for file in os.listdir(dir_input+\"/Tomato___Early_blight\"):\n",
    "    if file not in os.listdir(dir_label_8):\n",
    "        shutil.copyfile(os.path.join(dir_input+\"/Tomato___Early_blight\", file), os.path.join(dir_label_8, file))\n",
    "\n",
    "len(os.listdir(dir_label_8))"
   ]
  },
  {
   "cell_type": "code",
   "execution_count": 96,
   "metadata": {},
   "outputs": [
    {
     "data": {
      "text/plain": [
       "1600"
      ]
     },
     "execution_count": 96,
     "metadata": {},
     "output_type": "execute_result"
    }
   ],
   "source": [
    "# Augment flip horizontal\n",
    "list_image = os.listdir(dir_label_8)\n",
    "for file in list_image:\n",
    "    img_path = os.path.join(dir_label_8, file)\n",
    "    img = Image.open(img_path)\n",
    "    flipped_img = img.transpose(Image.FLIP_LEFT_RIGHT)\n",
    "    \n",
    "    base_name, ext = os.path.splitext(file)\n",
    "    flipped_img.save(os.path.join(dir_label_8, f\"{base_name}_flipped.JPG\"))\n",
    "\n",
    "len(os.listdir(dir_label_8))"
   ]
  },
  {
   "cell_type": "code",
   "execution_count": 97,
   "metadata": {},
   "outputs": [
    {
     "data": {
      "text/plain": [
       "2400"
      ]
     },
     "execution_count": 97,
     "metadata": {},
     "output_type": "execute_result"
    }
   ],
   "source": [
    "# Augment flip vertical\n",
    "list_image = os.listdir(dir_label_8)\n",
    "\n",
    "for file in list_image:\n",
    "    img_path = os.path.join(dir_label_8, file)\n",
    "    img = Image.open(img_path)\n",
    "    flipped_img = img.transpose(Image.FLIP_TOP_BOTTOM)\n",
    "    \n",
    "    base_name, ext = os.path.splitext(file)\n",
    "    flipped_img.save(os.path.join(dir_label_8, f\"{base_name}_flipped.JPG\"))\n",
    "\n",
    "len(os.listdir(dir_label_8))"
   ]
  },
  {
   "cell_type": "code",
   "execution_count": 98,
   "metadata": {},
   "outputs": [
    {
     "data": {
      "text/plain": [
       "4800"
      ]
     },
     "execution_count": 98,
     "metadata": {},
     "output_type": "execute_result"
    }
   ],
   "source": [
    "# Augment recolor\n",
    "list_image = os.listdir(dir_label_8)\n",
    "\n",
    "for file in list_image:\n",
    "    img_path = os.path.join(dir_label_8, file)\n",
    "    img = Image.open(img_path)\n",
    "    \n",
    "    enhancer = ImageEnhance.Brightness(img)\n",
    "    brightness_factor = random.uniform(0.7, 1.3)\n",
    "    img = enhancer.enhance(brightness_factor)\n",
    "    \n",
    "    enhancer = ImageEnhance.Contrast(img)\n",
    "    contrast_factor = random.uniform(0.7, 1.3)\n",
    "    img = enhancer.enhance(contrast_factor)\n",
    "    \n",
    "    enhancer = ImageEnhance.Color(img)\n",
    "    saturation_factor = random.uniform(0.7, 1.3)\n",
    "    img = enhancer.enhance(saturation_factor)\n",
    "    \n",
    "    enhancer = ImageEnhance.Sharpness(img)\n",
    "    sharpness_factor = random.uniform(0.7, 1.3)\n",
    "    img = enhancer.enhance(sharpness_factor)\n",
    "    \n",
    "    base_name, ext = os.path.splitext(file)\n",
    "    img.save(os.path.join(dir_label_8, f\"{base_name}_recolored.JPG\"))\n",
    "\n",
    "len(os.listdir(dir_label_8))"
   ]
  },
  {
   "cell_type": "code",
   "execution_count": 99,
   "metadata": {},
   "outputs": [
    {
     "data": {
      "text/plain": [
       "9600"
      ]
     },
     "execution_count": 99,
     "metadata": {},
     "output_type": "execute_result"
    }
   ],
   "source": [
    "list_image = os.listdir(dir_label_8)\n",
    "\n",
    "for file in list_image:\n",
    "    if len(os.listdir(dir_label_8)) == 10000:\n",
    "        break\n",
    "    \n",
    "    img_path = os.path.join(dir_label_8, file)\n",
    "    img = Image.open(img_path)\n",
    "    \n",
    "    rotated_img = img.rotate(15)\n",
    "    \n",
    "    base_name, ext = os.path.splitext(file)\n",
    "    rotated_img.save(os.path.join(dir_label_8, f\"{base_name}_rotated_15.JPG\"))\n",
    "\n",
    "len(os.listdir(dir_label_8))"
   ]
  },
  {
   "cell_type": "code",
   "execution_count": 100,
   "metadata": {},
   "outputs": [
    {
     "data": {
      "text/plain": [
       "10000"
      ]
     },
     "execution_count": 100,
     "metadata": {},
     "output_type": "execute_result"
    }
   ],
   "source": [
    "list_image = os.listdir(dir_label_8)\n",
    "\n",
    "for file in list_image:\n",
    "    if len(os.listdir(dir_label_8)) == 10000:\n",
    "        break\n",
    "    \n",
    "    img_path = os.path.join(dir_label_8, file)\n",
    "    img = Image.open(img_path)\n",
    "    \n",
    "    rotated_img = img.rotate(30)\n",
    "    \n",
    "    base_name, ext = os.path.splitext(file)\n",
    "    rotated_img.save(os.path.join(dir_label_8, f\"{base_name}_rotated_15.JPG\"))\n",
    "\n",
    "len(os.listdir(dir_label_8))"
   ]
  },
  {
   "cell_type": "markdown",
   "metadata": {},
   "source": [
    "## Tomato___Leaf_Mold"
   ]
  },
  {
   "cell_type": "code",
   "execution_count": 101,
   "metadata": {},
   "outputs": [],
   "source": [
    "dir_label_9 = dir_output+\"/Tomato___Leaf_Mold\""
   ]
  },
  {
   "cell_type": "code",
   "execution_count": 102,
   "metadata": {},
   "outputs": [
    {
     "data": {
      "text/plain": [
       "761"
      ]
     },
     "execution_count": 102,
     "metadata": {},
     "output_type": "execute_result"
    }
   ],
   "source": [
    "# Copy original\n",
    "for file in os.listdir(dir_input+\"/Tomato___Leaf_Mold\"):\n",
    "    if file not in os.listdir(dir_label_9):\n",
    "        shutil.copyfile(os.path.join(dir_input+\"/Tomato___Leaf_Mold\", file), os.path.join(dir_label_9, file))\n",
    "\n",
    "len(os.listdir(dir_label_9))"
   ]
  },
  {
   "cell_type": "code",
   "execution_count": 103,
   "metadata": {},
   "outputs": [
    {
     "data": {
      "text/plain": [
       "1522"
      ]
     },
     "execution_count": 103,
     "metadata": {},
     "output_type": "execute_result"
    }
   ],
   "source": [
    "# Augment flip horizontal\n",
    "list_image = os.listdir(dir_label_9)\n",
    "for file in list_image:\n",
    "    img_path = os.path.join(dir_label_9, file)\n",
    "    img = Image.open(img_path)\n",
    "    flipped_img = img.transpose(Image.FLIP_LEFT_RIGHT)\n",
    "    \n",
    "    base_name, ext = os.path.splitext(file)\n",
    "    flipped_img.save(os.path.join(dir_label_9, f\"{base_name}_flipped.JPG\"))\n",
    "\n",
    "len(os.listdir(dir_label_9))"
   ]
  },
  {
   "cell_type": "code",
   "execution_count": 104,
   "metadata": {},
   "outputs": [
    {
     "data": {
      "text/plain": [
       "2283"
      ]
     },
     "execution_count": 104,
     "metadata": {},
     "output_type": "execute_result"
    }
   ],
   "source": [
    "# Augment flip vertical\n",
    "list_image = os.listdir(dir_label_9)\n",
    "\n",
    "for file in list_image:\n",
    "    img_path = os.path.join(dir_label_9, file)\n",
    "    img = Image.open(img_path)\n",
    "    flipped_img = img.transpose(Image.FLIP_TOP_BOTTOM)\n",
    "    \n",
    "    base_name, ext = os.path.splitext(file)\n",
    "    flipped_img.save(os.path.join(dir_label_9, f\"{base_name}_flipped.JPG\"))\n",
    "\n",
    "len(os.listdir(dir_label_9))"
   ]
  },
  {
   "cell_type": "code",
   "execution_count": 105,
   "metadata": {},
   "outputs": [
    {
     "data": {
      "text/plain": [
       "4566"
      ]
     },
     "execution_count": 105,
     "metadata": {},
     "output_type": "execute_result"
    }
   ],
   "source": [
    "# Augment recolor\n",
    "list_image = os.listdir(dir_label_9)\n",
    "\n",
    "for file in list_image:\n",
    "    img_path = os.path.join(dir_label_9, file)\n",
    "    img = Image.open(img_path)\n",
    "    \n",
    "    enhancer = ImageEnhance.Brightness(img)\n",
    "    brightness_factor = random.uniform(0.7, 1.3)\n",
    "    img = enhancer.enhance(brightness_factor)\n",
    "    \n",
    "    enhancer = ImageEnhance.Contrast(img)\n",
    "    contrast_factor = random.uniform(0.7, 1.3)\n",
    "    img = enhancer.enhance(contrast_factor)\n",
    "    \n",
    "    enhancer = ImageEnhance.Color(img)\n",
    "    saturation_factor = random.uniform(0.7, 1.3)\n",
    "    img = enhancer.enhance(saturation_factor)\n",
    "    \n",
    "    enhancer = ImageEnhance.Sharpness(img)\n",
    "    sharpness_factor = random.uniform(0.7, 1.3)\n",
    "    img = enhancer.enhance(sharpness_factor)\n",
    "    \n",
    "    base_name, ext = os.path.splitext(file)\n",
    "    img.save(os.path.join(dir_label_9, f\"{base_name}_recolored.JPG\"))\n",
    "\n",
    "len(os.listdir(dir_label_9))"
   ]
  },
  {
   "cell_type": "code",
   "execution_count": 106,
   "metadata": {},
   "outputs": [
    {
     "data": {
      "text/plain": [
       "9132"
      ]
     },
     "execution_count": 106,
     "metadata": {},
     "output_type": "execute_result"
    }
   ],
   "source": [
    "list_image = os.listdir(dir_label_9)\n",
    "\n",
    "for file in list_image:\n",
    "    if len(os.listdir(dir_label_9)) == 10000:\n",
    "        break\n",
    "    \n",
    "    img_path = os.path.join(dir_label_9, file)\n",
    "    img = Image.open(img_path)\n",
    "    \n",
    "    rotated_img = img.rotate(15)\n",
    "    \n",
    "    base_name, ext = os.path.splitext(file)\n",
    "    rotated_img.save(os.path.join(dir_label_9, f\"{base_name}_rotated_15.JPG\"))\n",
    "\n",
    "len(os.listdir(dir_label_9))"
   ]
  },
  {
   "cell_type": "code",
   "execution_count": 107,
   "metadata": {},
   "outputs": [
    {
     "data": {
      "text/plain": [
       "10000"
      ]
     },
     "execution_count": 107,
     "metadata": {},
     "output_type": "execute_result"
    }
   ],
   "source": [
    "list_image = os.listdir(dir_label_9)\n",
    "\n",
    "for file in list_image:\n",
    "    if len(os.listdir(dir_label_9)) == 10000:\n",
    "        break\n",
    "    \n",
    "    img_path = os.path.join(dir_label_9, file)\n",
    "    img = Image.open(img_path)\n",
    "    \n",
    "    rotated_img = img.rotate(30)\n",
    "    \n",
    "    base_name, ext = os.path.splitext(file)\n",
    "    rotated_img.save(os.path.join(dir_label_9, f\"{base_name}_rotated_15.JPG\"))\n",
    "\n",
    "len(os.listdir(dir_label_9))"
   ]
  },
  {
   "cell_type": "markdown",
   "metadata": {},
   "source": [
    "## Tomato___Tomato_mosaic_virus"
   ]
  },
  {
   "cell_type": "code",
   "execution_count": 108,
   "metadata": {},
   "outputs": [],
   "source": [
    "dir_label_10 = dir_output+\"/Tomato___Tomato_mosaic_virus\""
   ]
  },
  {
   "cell_type": "code",
   "execution_count": 109,
   "metadata": {},
   "outputs": [
    {
     "data": {
      "text/plain": [
       "298"
      ]
     },
     "execution_count": 109,
     "metadata": {},
     "output_type": "execute_result"
    }
   ],
   "source": [
    "# Copy original\n",
    "for file in os.listdir(dir_input+\"/Tomato___Tomato_mosaic_virus\"):\n",
    "    if file not in os.listdir(dir_label_10):\n",
    "        shutil.copyfile(os.path.join(dir_input+\"/Tomato___Tomato_mosaic_virus\", file), os.path.join(dir_label_10, file))\n",
    "\n",
    "len(os.listdir(dir_label_10))"
   ]
  },
  {
   "cell_type": "code",
   "execution_count": 110,
   "metadata": {},
   "outputs": [
    {
     "data": {
      "text/plain": [
       "596"
      ]
     },
     "execution_count": 110,
     "metadata": {},
     "output_type": "execute_result"
    }
   ],
   "source": [
    "# Augment flip horizontal\n",
    "list_image = os.listdir(dir_label_10)\n",
    "for file in list_image:\n",
    "    img_path = os.path.join(dir_label_10, file)\n",
    "    img = Image.open(img_path)\n",
    "    flipped_img = img.transpose(Image.FLIP_LEFT_RIGHT)\n",
    "    \n",
    "    base_name, ext = os.path.splitext(file)\n",
    "    flipped_img.save(os.path.join(dir_label_10, f\"{base_name}_flipped.JPG\"))\n",
    "\n",
    "len(os.listdir(dir_label_10))"
   ]
  },
  {
   "cell_type": "code",
   "execution_count": 111,
   "metadata": {},
   "outputs": [
    {
     "data": {
      "text/plain": [
       "894"
      ]
     },
     "execution_count": 111,
     "metadata": {},
     "output_type": "execute_result"
    }
   ],
   "source": [
    "# Augment flip vertical\n",
    "list_image = os.listdir(dir_label_10)\n",
    "\n",
    "for file in list_image:\n",
    "    img_path = os.path.join(dir_label_10, file)\n",
    "    img = Image.open(img_path)\n",
    "    flipped_img = img.transpose(Image.FLIP_TOP_BOTTOM)\n",
    "    \n",
    "    base_name, ext = os.path.splitext(file)\n",
    "    flipped_img.save(os.path.join(dir_label_10, f\"{base_name}_flipped.JPG\"))\n",
    "\n",
    "len(os.listdir(dir_label_10))"
   ]
  },
  {
   "cell_type": "code",
   "execution_count": 112,
   "metadata": {},
   "outputs": [
    {
     "data": {
      "text/plain": [
       "1788"
      ]
     },
     "execution_count": 112,
     "metadata": {},
     "output_type": "execute_result"
    }
   ],
   "source": [
    "# Augment recolor\n",
    "list_image = os.listdir(dir_label_10)\n",
    "\n",
    "for file in list_image:\n",
    "    img_path = os.path.join(dir_label_10, file)\n",
    "    img = Image.open(img_path)\n",
    "    \n",
    "    enhancer = ImageEnhance.Brightness(img)\n",
    "    brightness_factor = random.uniform(0.7, 1.3)\n",
    "    img = enhancer.enhance(brightness_factor)\n",
    "    \n",
    "    enhancer = ImageEnhance.Contrast(img)\n",
    "    contrast_factor = random.uniform(0.7, 1.3)\n",
    "    img = enhancer.enhance(contrast_factor)\n",
    "    \n",
    "    enhancer = ImageEnhance.Color(img)\n",
    "    saturation_factor = random.uniform(0.7, 1.3)\n",
    "    img = enhancer.enhance(saturation_factor)\n",
    "    \n",
    "    enhancer = ImageEnhance.Sharpness(img)\n",
    "    sharpness_factor = random.uniform(0.7, 1.3)\n",
    "    img = enhancer.enhance(sharpness_factor)\n",
    "    \n",
    "    base_name, ext = os.path.splitext(file)\n",
    "    img.save(os.path.join(dir_label_10, f\"{base_name}_recolored.JPG\"))\n",
    "\n",
    "len(os.listdir(dir_label_10))"
   ]
  },
  {
   "cell_type": "code",
   "execution_count": 113,
   "metadata": {},
   "outputs": [
    {
     "data": {
      "text/plain": [
       "3576"
      ]
     },
     "execution_count": 113,
     "metadata": {},
     "output_type": "execute_result"
    }
   ],
   "source": [
    "list_image = os.listdir(dir_label_10)\n",
    "\n",
    "for file in list_image:\n",
    "    if len(os.listdir(dir_label_10)) == 10000:\n",
    "        break\n",
    "    \n",
    "    img_path = os.path.join(dir_label_10, file)\n",
    "    img = Image.open(img_path)\n",
    "    \n",
    "    rotated_img = img.rotate(15)\n",
    "    \n",
    "    base_name, ext = os.path.splitext(file)\n",
    "    rotated_img.save(os.path.join(dir_label_10, f\"{base_name}_rotated_15.JPG\"))\n",
    "\n",
    "len(os.listdir(dir_label_10))"
   ]
  },
  {
   "cell_type": "code",
   "execution_count": 114,
   "metadata": {},
   "outputs": [
    {
     "data": {
      "text/plain": [
       "5364"
      ]
     },
     "execution_count": 114,
     "metadata": {},
     "output_type": "execute_result"
    }
   ],
   "source": [
    "list_image = os.listdir(dir_label_10)\n",
    "\n",
    "for file in list_image:\n",
    "    if len(os.listdir(dir_label_10)) == 10000:\n",
    "        break\n",
    "    \n",
    "    img_path = os.path.join(dir_label_10, file)\n",
    "    img = Image.open(img_path)\n",
    "    \n",
    "    rotated_img = img.rotate(30)\n",
    "    \n",
    "    base_name, ext = os.path.splitext(file)\n",
    "    rotated_img.save(os.path.join(dir_label_10, f\"{base_name}_rotated_15.JPG\"))\n",
    "\n",
    "len(os.listdir(dir_label_10))"
   ]
  },
  {
   "cell_type": "code",
   "execution_count": 115,
   "metadata": {},
   "outputs": [
    {
     "data": {
      "text/plain": [
       "8940"
      ]
     },
     "execution_count": 115,
     "metadata": {},
     "output_type": "execute_result"
    }
   ],
   "source": [
    "list_image = os.listdir(dir_label_10)\n",
    "\n",
    "for file in list_image:\n",
    "    if len(os.listdir(dir_label_10)) == 10000:\n",
    "        break\n",
    "    \n",
    "    img_path = os.path.join(dir_label_10, file)\n",
    "    img = Image.open(img_path)\n",
    "    \n",
    "    width, height = img.size\n",
    "    crop_width = random.randint(int(width * 0.7), width)\n",
    "    crop_height = random.randint(int(height * 0.7), height)\n",
    "    left = random.randint(0, width - crop_width)\n",
    "    top = random.randint(0, height - crop_height)\n",
    "    right = left + crop_width\n",
    "    bottom = top + crop_height\n",
    "    \n",
    "    cropped_img = img.crop((left, top, right, bottom))\n",
    "    \n",
    "    base_name, ext = os.path.splitext(file)\n",
    "    cropped_img.save(os.path.join(dir_label_10, f\"{base_name}_cropped.JPG\"))\n",
    "\n",
    "len(os.listdir(dir_label_10))"
   ]
  },
  {
   "cell_type": "code",
   "execution_count": 117,
   "metadata": {},
   "outputs": [
    {
     "data": {
      "text/plain": [
       "10000"
      ]
     },
     "execution_count": 117,
     "metadata": {},
     "output_type": "execute_result"
    }
   ],
   "source": [
    "list_image = os.listdir(dir_label_10)\n",
    "\n",
    "for file in list_image:\n",
    "    if len(os.listdir(dir_label_10)) == 10000:\n",
    "        break\n",
    "    \n",
    "    img_path = os.path.join(dir_label_10, file)\n",
    "    img = Image.open(img_path)\n",
    "    \n",
    "    img_array = np.array(img)\n",
    "    noise = np.random.normal(0, 25, img_array.shape).astype(np.uint8)\n",
    "    noisy_img_array = np.clip(img_array + noise, 0, 255)\n",
    "    noisy_img = Image.fromarray(noisy_img_array)\n",
    "    \n",
    "    base_name, ext = os.path.splitext(file)\n",
    "    noisy_img.save(os.path.join(dir_label_10, f\"{base_name}_noisy.JPG\"))\n",
    "    \n",
    "len(os.listdir(dir_label_10))"
   ]
  }
 ],
 "metadata": {
  "kernelspec": {
   "display_name": "Python 3",
   "language": "python",
   "name": "python3"
  },
  "language_info": {
   "codemirror_mode": {
    "name": "ipython",
    "version": 3
   },
   "file_extension": ".py",
   "mimetype": "text/x-python",
   "name": "python",
   "nbconvert_exporter": "python",
   "pygments_lexer": "ipython3",
   "version": "3.12.4"
  }
 },
 "nbformat": 4,
 "nbformat_minor": 2
}
