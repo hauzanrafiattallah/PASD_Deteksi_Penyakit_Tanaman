{
 "cells": [
  {
   "cell_type": "markdown",
   "metadata": {},
   "source": [
    "# Import"
   ]
  },
  {
   "cell_type": "markdown",
   "metadata": {},
   "source": [
    "Libraries"
   ]
  },
  {
   "cell_type": "code",
   "execution_count": 72,
   "metadata": {},
   "outputs": [],
   "source": [
    "import os\n",
    "import shutil\n",
    "import tensorflow as tf\n",
    "import pandas as pd\n",
    "import numpy as np"
   ]
  },
  {
   "cell_type": "markdown",
   "metadata": {},
   "source": [
    "Path"
   ]
  },
  {
   "cell_type": "code",
   "execution_count": null,
   "metadata": {},
   "outputs": [],
   "source": [
    "dir_dataset = r\"C:\\Users\\USER\\Desktop\\Projects\\PASD_Deteksi_Penyakit_Tanaman\\Dataset\\raw\\color\"\n",
    "\n",
    "dir_train = r\"C:\\Users\\USER\\Desktop\\Projects\\PASD_Deteksi_Penyakit_Tanaman\\Dataset\\train\"\n",
    "dir_val = r\"C:\\Users\\USER\\Desktop\\Projects\\PASD_Deteksi_Penyakit_Tanaman\\Dataset\\val\"\n",
    "dir_test = r\"C:\\Users\\USER\\Desktop\\Projects\\PASD_Deteksi_Penyakit_Tanaman\\Dataset\\test\"\n",
    "\n",
    "df_train = pd.read_excel(r\"C:\\Users\\USER\\Desktop\\Projects\\PASD_Deteksi_Penyakit_Tanaman\\Dataset\\split\\train.xlsx\")\n",
    "df_val = pd.read_excel(r\"C:\\Users\\USER\\Desktop\\Projects\\PASD_Deteksi_Penyakit_Tanaman\\Dataset\\split\\val.xlsx\")\n",
    "df_test = pd.read_excel(r\"C:\\Users\\USER\\Desktop\\Projects\\PASD_Deteksi_Penyakit_Tanaman\\Dataset\\split\\test.xlsx\")"
   ]
  },
  {
   "cell_type": "markdown",
   "metadata": {},
   "source": [
    "# Preprocessing"
   ]
  },
  {
   "cell_type": "markdown",
   "metadata": {},
   "source": [
    "Create Folders"
   ]
  },
  {
   "cell_type": "code",
   "execution_count": null,
   "metadata": {},
   "outputs": [],
   "source": [
    "for folder in [\"train\", \"val\", \"test\"]:\n",
    "    if folder not in os.listdir(r\"C:\\Users\\USER\\Desktop\\Projects\\PASD_Deteksi_Penyakit_Tanaman\\Dataset\"):\n",
    "        os.mkdir(os.path.join(r\"C:\\Users\\USER\\Desktop\\Projects\\PASD_Deteksi_Penyakit_Tanaman\\Dataset\", folder))"
   ]
  },
  {
   "cell_type": "markdown",
   "metadata": {},
   "source": [
    "Move val data"
   ]
  },
  {
   "cell_type": "code",
   "execution_count": 65,
   "metadata": {},
   "outputs": [],
   "source": [
    "for label in df_val[\"label\"].unique():\n",
    "    if label not in os.listdir(dir_val):\n",
    "        os.mkdir(os.path.join(dir_val, label))\n",
    "        \n",
    "    files = df_val[df_val[\"label\"] == label][\"file_name\"]\n",
    "    for file in files:\n",
    "        dir_image_in = os.path.join(dir_dataset, label, file)\n",
    "        dir_image_out = os.path.join(dir_val, label, file)\n",
    "        shutil.copyfile(dir_image_in, dir_image_out)"
   ]
  },
  {
   "cell_type": "code",
   "execution_count": 67,
   "metadata": {},
   "outputs": [
    {
     "name": "stdout",
     "output_type": "stream",
     "text": [
      "1816 1816\n"
     ]
    }
   ],
   "source": [
    "total = 0\n",
    "for folder in os.listdir(dir_val):\n",
    "    total += len(os.listdir(os.path.join(dir_val, folder)))\n",
    "print(total, len(df_val))"
   ]
  },
  {
   "cell_type": "markdown",
   "metadata": {},
   "source": [
    "Move test data"
   ]
  },
  {
   "cell_type": "code",
   "execution_count": 68,
   "metadata": {},
   "outputs": [],
   "source": [
    "for label in df_test[\"label\"].unique():\n",
    "    if label not in os.listdir(dir_test):\n",
    "        os.mkdir(os.path.join(dir_test, label))\n",
    "        \n",
    "    files = df_test[df_test[\"label\"] == label][\"file_name\"]\n",
    "    for file in files:\n",
    "        dir_image_in = os.path.join(dir_dataset, label, file)\n",
    "        dir_image_out = os.path.join(dir_test, label, file)\n",
    "        shutil.copyfile(dir_image_in, dir_image_out)"
   ]
  },
  {
   "cell_type": "code",
   "execution_count": 69,
   "metadata": {},
   "outputs": [
    {
     "name": "stdout",
     "output_type": "stream",
     "text": [
      "1816 1816\n"
     ]
    }
   ],
   "source": [
    "total = 0\n",
    "for folder in os.listdir(dir_test):\n",
    "    total += len(os.listdir(os.path.join(dir_test, folder)))\n",
    "print(total, len(df_test))"
   ]
  },
  {
   "cell_type": "markdown",
   "metadata": {},
   "source": [
    "Functions"
   ]
  },
  {
   "cell_type": "code",
   "execution_count": 74,
   "metadata": {},
   "outputs": [],
   "source": [
    "def augment_image(image, file_name, output_dir):\n",
    "    augmented_images = []\n",
    "    augmented_images.append((image, \"original\"))\n",
    "    augmented_images.append((tf.image.flip_left_right(image), \"flip_lr\"))\n",
    "    augmented_images.append((tf.image.rot90(image), \"rot90\"))\n",
    "    scaled = tf.image.resize_with_crop_or_pad(image, 200, 200)\n",
    "    augmented_images.append((tf.image.resize(scaled, [256, 256]), \"scaled\"))\n",
    "    augmented_images.append((tf.image.random_brightness(image, max_delta=0.2), \"brightness\"))\n",
    "    \n",
    "    for img, augmentation_type in augmented_images:\n",
    "        augmented_file_name = f\"{os.path.splitext(file_name)[0]}_{augmentation_type}.jpg\"\n",
    "        augmented_file_path = os.path.join(output_dir, augmented_file_name)\n",
    "        tf.keras.preprocessing.image.save_img(augmented_file_path, img)"
   ]
  },
  {
   "cell_type": "markdown",
   "metadata": {},
   "source": [
    "Augment and Move train data"
   ]
  },
  {
   "cell_type": "code",
   "execution_count": 75,
   "metadata": {},
   "outputs": [],
   "source": [
    "for label in df_train[\"label\"].unique():\n",
    "    if label not in os.listdir(dir_train):\n",
    "        os.mkdir(os.path.join(dir_train, label))\n",
    "        \n",
    "    files = df_train[df_train[\"label\"] == label][\"file_name\"]\n",
    "    for file in files:\n",
    "        dir_image_in = os.path.join(dir_dataset, label, file)\n",
    "        dir_image_out = os.path.join(dir_train, label, file)\n",
    "        shutil.copyfile(dir_image_in, dir_image_out)\n",
    "        \n",
    "        image = tf.keras.preprocessing.image.load_img(dir_image_in)\n",
    "        image = tf.keras.preprocessing.image.img_to_array(image)\n",
    "        \n",
    "        augment_image(image, file, os.path.join(dir_train, label))"
   ]
  },
  {
   "cell_type": "code",
   "execution_count": 76,
   "metadata": {},
   "outputs": [
    {
     "name": "stdout",
     "output_type": "stream",
     "text": [
      "87168 14528\n"
     ]
    }
   ],
   "source": [
    "total = 0\n",
    "for folder in os.listdir(dir_train):\n",
    "    total += len(os.listdir(os.path.join(dir_train, folder)))\n",
    "print(total, len(df_train))"
   ]
  }
 ],
 "metadata": {
  "kernelspec": {
   "display_name": "Python 3",
   "language": "python",
   "name": "python3"
  },
  "language_info": {
   "codemirror_mode": {
    "name": "ipython",
    "version": 3
   },
   "file_extension": ".py",
   "mimetype": "text/x-python",
   "name": "python",
   "nbconvert_exporter": "python",
   "pygments_lexer": "ipython3",
   "version": "3.12.4"
  }
 },
 "nbformat": 4,
 "nbformat_minor": 2
}
