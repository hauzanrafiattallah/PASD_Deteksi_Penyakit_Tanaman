{
 "cells": [
  {
   "cell_type": "markdown",
   "metadata": {},
   "source": [
    "# Import"
   ]
  },
  {
   "cell_type": "markdown",
   "metadata": {},
   "source": [
    "Libraries"
   ]
  },
  {
   "cell_type": "code",
   "execution_count": 2,
   "metadata": {},
   "outputs": [],
   "source": [
    "import os\n",
    "import shutil\n",
    "import tensorflow as tf\n",
    "import pandas as pd\n",
    "import numpy as np"
   ]
  },
  {
   "cell_type": "markdown",
   "metadata": {},
   "source": [
    "Path"
   ]
  },
  {
   "cell_type": "code",
   "execution_count": null,
   "metadata": {},
   "outputs": [],
   "source": [
    "dir_main = r\"C:\\Users\\user\\Desktop\\Projects\\PASD_Deteksi_Penyakit_Tanaman\\Dataset_Segmented\"\n",
    "\n",
    "dir_dataset = dir_main+\"/raw\"\n",
    "\n",
    "dir_train = dir_main+\"/train\"\n",
    "dir_val = dir_main+\"/val\"\n",
    "dir_test = dir_main+\"/test\"\n",
    "\n",
    "df_train = pd.read_excel(dir_main+\"/split/train.xlsx\")\n",
    "df_val = pd.read_excel(dir_main+\"/split/val.xlsx\")\n",
    "df_test = pd.read_excel(dir_main+\"/split/test.xlsx\")"
   ]
  },
  {
   "cell_type": "markdown",
   "metadata": {},
   "source": [
    "# Preprocessing"
   ]
  },
  {
   "cell_type": "markdown",
   "metadata": {},
   "source": [
    "Create Folders"
   ]
  },
  {
   "cell_type": "code",
   "execution_count": 4,
   "metadata": {},
   "outputs": [],
   "source": [
    "for folder in [\"train\", \"val\", \"test\"]:\n",
    "    if folder not in os.listdir(dir_main):\n",
    "        os.mkdir(os.path.join(dir_main, folder))"
   ]
  },
  {
   "cell_type": "markdown",
   "metadata": {},
   "source": [
    "Move val data"
   ]
  },
  {
   "cell_type": "code",
   "execution_count": null,
   "metadata": {},
   "outputs": [],
   "source": [
    "for label in df_val[\"label\"].unique():\n",
    "    if label not in os.listdir(dir_val):\n",
    "        os.mkdir(os.path.join(dir_val, label))\n",
    "        \n",
    "    files = df_val[df_val[\"label\"] == label][\"file_name\"]\n",
    "    for file in files:\n",
    "        dir_image_in = os.path.join(dir_dataset, label, file)\n",
    "        dir_image_out = os.path.join(dir_val, label, file)\n",
    "        shutil.copyfile(dir_image_in, dir_image_out)"
   ]
  },
  {
   "cell_type": "markdown",
   "metadata": {},
   "source": [
    "Move test data"
   ]
  },
  {
   "cell_type": "code",
   "execution_count": 6,
   "metadata": {},
   "outputs": [],
   "source": [
    "for label in df_test[\"label\"].unique():\n",
    "    if label not in os.listdir(dir_test):\n",
    "        os.mkdir(os.path.join(dir_test, label))\n",
    "        \n",
    "    files = df_test[df_test[\"label\"] == label][\"file_name\"]\n",
    "    for file in files:\n",
    "        dir_image_in = os.path.join(dir_dataset, label, file)\n",
    "        dir_image_out = os.path.join(dir_test, label, file)\n",
    "        shutil.copyfile(dir_image_in, dir_image_out)"
   ]
  },
  {
   "cell_type": "markdown",
   "metadata": {},
   "source": [
    "Move train data"
   ]
  },
  {
   "cell_type": "code",
   "execution_count": 7,
   "metadata": {},
   "outputs": [],
   "source": [
    "for label in df_train[\"label\"].unique():\n",
    "    if label not in os.listdir(dir_train):\n",
    "        os.mkdir(os.path.join(dir_train, label))\n",
    "        \n",
    "    files = df_train[df_train[\"label\"] == label][\"file_name\"]\n",
    "    for file in files:\n",
    "        dir_image_in = os.path.join(dir_dataset, label, file)\n",
    "        dir_image_out = os.path.join(dir_train, label, file)\n",
    "        shutil.copyfile(dir_image_in, dir_image_out)"
   ]
  },
  {
   "cell_type": "markdown",
   "metadata": {},
   "source": [
    "# Checking"
   ]
  },
  {
   "cell_type": "code",
   "execution_count": 8,
   "metadata": {},
   "outputs": [
    {
     "name": "stdout",
     "output_type": "stream",
     "text": [
      "Val Dataset\n",
      "Tomato___Bacterial_spot 213\n",
      "Tomato___Early_blight 100\n",
      "Tomato___healthy 159\n",
      "Tomato___Late_blight 191\n",
      "Tomato___Leaf_Mold 96\n",
      "Tomato___Septoria_leaf_spot 177\n",
      "Tomato___Spider_mites Two-spotted_spider_mite 167\n",
      "Tomato___Target_Spot 140\n",
      "Tomato___Tomato_mosaic_virus 37\n",
      "Tomato___Tomato_Yellow_Leaf_Curl_Virus 536\n",
      "1816 1816\n",
      "\n",
      "Test Dataset\n",
      "Tomato___Bacterial_spot 213\n",
      "Tomato___Early_blight 100\n",
      "Tomato___healthy 159\n",
      "Tomato___Late_blight 191\n",
      "Tomato___Leaf_Mold 96\n",
      "Tomato___Septoria_leaf_spot 177\n",
      "Tomato___Spider_mites Two-spotted_spider_mite 167\n",
      "Tomato___Target_Spot 140\n",
      "Tomato___Tomato_mosaic_virus 37\n",
      "Tomato___Tomato_Yellow_Leaf_Curl_Virus 536\n",
      "1816 1816\n",
      "\n",
      "Train Dataset\n",
      "Tomato___Bacterial_spot 213\n",
      "Tomato___Early_blight 100\n",
      "Tomato___healthy 159\n",
      "Tomato___Late_blight 191\n",
      "Tomato___Leaf_Mold 96\n",
      "Tomato___Septoria_leaf_spot 177\n",
      "Tomato___Spider_mites Two-spotted_spider_mite 167\n",
      "Tomato___Target_Spot 140\n",
      "Tomato___Tomato_mosaic_virus 37\n",
      "Tomato___Tomato_Yellow_Leaf_Curl_Virus 536\n",
      "14528 14528\n"
     ]
    }
   ],
   "source": [
    "print(\"Val Dataset\")\n",
    "total = 0\n",
    "for folder in os.listdir(dir_val):\n",
    "    print(folder, len(os.listdir(os.path.join(dir_val, folder))))\n",
    "    total += len(os.listdir(os.path.join(dir_val, folder)))\n",
    "print(total, len(df_val))\n",
    "\n",
    "print(\"\\nTest Dataset\")\n",
    "total = 0\n",
    "for folder in os.listdir(dir_test):\n",
    "    print(folder, len(os.listdir(os.path.join(dir_val, folder))))\n",
    "    total += len(os.listdir(os.path.join(dir_test, folder)))\n",
    "print(total, len(df_test))\n",
    "\n",
    "print(\"\\nTrain Dataset\")\n",
    "total = 0\n",
    "for folder in os.listdir(dir_train):\n",
    "    print(folder, len(os.listdir(os.path.join(dir_val, folder))))\n",
    "    total += len(os.listdir(os.path.join(dir_train, folder)))\n",
    "print(total, len(df_train))"
   ]
  }
 ],
 "metadata": {
  "kernelspec": {
   "display_name": "Python 3",
   "language": "python",
   "name": "python3"
  },
  "language_info": {
   "codemirror_mode": {
    "name": "ipython",
    "version": 3
   },
   "file_extension": ".py",
   "mimetype": "text/x-python",
   "name": "python",
   "nbconvert_exporter": "python",
   "pygments_lexer": "ipython3",
   "version": "3.12.4"
  }
 },
 "nbformat": 4,
 "nbformat_minor": 2
}
