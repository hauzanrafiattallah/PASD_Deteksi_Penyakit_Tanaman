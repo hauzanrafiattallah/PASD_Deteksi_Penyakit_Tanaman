{
 "cells": [
  {
   "cell_type": "code",
   "execution_count": 1,
   "metadata": {},
   "outputs": [],
   "source": [
    "import os\n",
    "import shutil\n",
    "from PIL import Image\n",
    "import numpy as np\n",
    "import cv2\n",
    "import pandas as pd\n",
    "from matplotlib import pyplot as plt"
   ]
  },
  {
   "cell_type": "code",
   "execution_count": null,
   "metadata": {},
   "outputs": [],
   "source": [
    "labels_original = os.listdir(r\"C:\\Users\\USER\\Desktop\\Projects\\PASD_Deteksi_Penyakit_Tanaman\\Dataset_Classification\\train\")"
   ]
  },
  {
   "cell_type": "code",
   "execution_count": 3,
   "metadata": {},
   "outputs": [],
   "source": [
    "labels_new = [label.split(\"___\")[1].lower() for label in labels_original]\n",
    "labels_new = [label.split(\" \")[0] for label in labels_new]\n",
    "labels_new = [label.replace(\"tomato_\", \"\") for label in labels_new]"
   ]
  },
  {
   "cell_type": "code",
   "execution_count": 4,
   "metadata": {},
   "outputs": [
    {
     "data": {
      "text/plain": [
       "['Tomato___Bacterial_spot',\n",
       " 'Tomato___Early_blight',\n",
       " 'Tomato___healthy',\n",
       " 'Tomato___Late_blight',\n",
       " 'Tomato___Leaf_Mold',\n",
       " 'Tomato___Septoria_leaf_spot',\n",
       " 'Tomato___Spider_mites Two-spotted_spider_mite',\n",
       " 'Tomato___Target_Spot',\n",
       " 'Tomato___Tomato_mosaic_virus',\n",
       " 'Tomato___Tomato_Yellow_Leaf_Curl_Virus']"
      ]
     },
     "metadata": {},
     "output_type": "display_data"
    },
    {
     "data": {
      "text/plain": [
       "['bacterial_spot',\n",
       " 'early_blight',\n",
       " 'healthy',\n",
       " 'late_blight',\n",
       " 'leaf_mold',\n",
       " 'septoria_leaf_spot',\n",
       " 'spider_mites',\n",
       " 'target_spot',\n",
       " 'mosaic_virus',\n",
       " 'yellow_leaf_curl_virus']"
      ]
     },
     "metadata": {},
     "output_type": "display_data"
    }
   ],
   "source": [
    "display(labels_original, labels_new)"
   ]
  },
  {
   "cell_type": "code",
   "execution_count": null,
   "metadata": {},
   "outputs": [],
   "source": [
    "dir_dataset_ori = r\"C:\\Users\\USER\\Desktop\\Projects\\PASD_Deteksi_Penyakit_Tanaman\\Dataset_Classification\"\n",
    "dir_dataset_new = r\"C:\\Users\\USER\\Desktop\\Projects\\PASD_Deteksi_Penyakit_Tanaman\\Dataset_Preprocessed\"\n",
    "\n",
    "dir_train_ori = dir_dataset_ori + \"/train_aug\"\n",
    "dir_train_new = dir_dataset_new + \"/train_aug\"\n",
    "\n",
    "dir_val_ori = dir_dataset_ori + \"/val\"\n",
    "dir_val_new = dir_dataset_new + \"/val\"\n",
    "\n",
    "dir_test_ori = dir_dataset_ori + \"/test\"\n",
    "dir_test_new = dir_dataset_new + \"/test\""
   ]
  },
  {
   "cell_type": "code",
   "execution_count": 6,
   "metadata": {},
   "outputs": [],
   "source": [
    "def preprocess_image(image_path):\n",
    "    img = cv2.imread(image_path)\n",
    "    img = cv2.resize(img, (224, 224), interpolation=cv2.INTER_NEAREST_EXACT)\n",
    "    return img"
   ]
  },
  {
   "cell_type": "markdown",
   "metadata": {},
   "source": [
    "# Execution"
   ]
  },
  {
   "cell_type": "markdown",
   "metadata": {},
   "source": [
    "Val"
   ]
  },
  {
   "cell_type": "code",
   "execution_count": 16,
   "metadata": {},
   "outputs": [],
   "source": [
    "for folder in labels_original:\n",
    "    i = 1\n",
    "    for file in os.listdir(os.path.join(dir_val_ori, folder)):\n",
    "        image_in = os.path.join(dir_val_ori, folder, file)\n",
    "        image_out = os.path.join(\n",
    "            dir_val_new, \n",
    "            labels_new[labels_original.index(folder)],\n",
    "            f\"{labels_new[labels_original.index(folder)]}_val_{i}.jpg\"\n",
    "        )\n",
    "        i += 1\n",
    "        output_dir = os.path.join(dir_val_new, labels_new[labels_original.index(folder)])\n",
    "        if not os.path.exists(output_dir):\n",
    "            os.makedirs(output_dir)\n",
    "        image_result = preprocess_image(image_in)\n",
    "        cv2.imwrite(image_out, image_result.astype(\"uint8\"))"
   ]
  },
  {
   "cell_type": "markdown",
   "metadata": {},
   "source": [
    "Test"
   ]
  },
  {
   "cell_type": "code",
   "execution_count": 7,
   "metadata": {},
   "outputs": [],
   "source": [
    "for folder in labels_original:\n",
    "    i = 1\n",
    "    for file in os.listdir(os.path.join(dir_test_ori, folder)):\n",
    "        image_in = os.path.join(dir_test_ori, folder, file)\n",
    "        image_out = os.path.join(\n",
    "            dir_test_new, \n",
    "            labels_new[labels_original.index(folder)],\n",
    "            f\"{labels_new[labels_original.index(folder)]}_test_{i}.jpg\"\n",
    "        )\n",
    "        i += 1\n",
    "        output_dir = os.path.join(dir_test_new, labels_new[labels_original.index(folder)])\n",
    "        if not os.path.exists(output_dir):\n",
    "            os.makedirs(output_dir)\n",
    "        image_result = preprocess_image(image_in)\n",
    "        cv2.imwrite(image_out, image_result.astype(\"uint8\"))"
   ]
  },
  {
   "cell_type": "markdown",
   "metadata": {},
   "source": [
    "Train"
   ]
  },
  {
   "cell_type": "code",
   "execution_count": 7,
   "metadata": {},
   "outputs": [],
   "source": [
    "for folder in labels_original:\n",
    "    i = 1\n",
    "    for file in os.listdir(os.path.join(dir_train_ori, folder)):\n",
    "        image_in = os.path.join(dir_train_ori, folder, file)\n",
    "        image_out = os.path.join(\n",
    "            dir_train_new, \n",
    "            labels_new[labels_original.index(folder)],\n",
    "            f\"{labels_new[labels_original.index(folder)]}_train_{i}.jpg\"\n",
    "        )\n",
    "        i += 1\n",
    "        output_dir = os.path.join(dir_train_new, labels_new[labels_original.index(folder)])\n",
    "        if not os.path.exists(output_dir):\n",
    "            os.makedirs(output_dir)\n",
    "        image_result = preprocess_image(image_in)\n",
    "        cv2.imwrite(image_out, image_result.astype(\"uint8\"))"
   ]
  }
 ],
 "metadata": {
  "kernelspec": {
   "display_name": "Python 3",
   "language": "python",
   "name": "python3"
  },
  "language_info": {
   "codemirror_mode": {
    "name": "ipython",
    "version": 3
   },
   "file_extension": ".py",
   "mimetype": "text/x-python",
   "name": "python",
   "nbconvert_exporter": "python",
   "pygments_lexer": "ipython3",
   "version": "3.12.4"
  }
 },
 "nbformat": 4,
 "nbformat_minor": 2
}
