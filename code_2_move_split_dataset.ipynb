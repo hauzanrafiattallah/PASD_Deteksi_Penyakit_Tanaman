{
 "cells": [
  {
   "cell_type": "markdown",
   "metadata": {},
   "source": [
    "# Import"
   ]
  },
  {
   "cell_type": "markdown",
   "metadata": {},
   "source": [
    "Libraries"
   ]
  },
  {
   "cell_type": "code",
   "execution_count": 2,
   "metadata": {},
   "outputs": [],
   "source": [
    "import os\n",
    "import shutil\n",
    "import tensorflow as tf\n",
    "import pandas as pd\n",
    "import numpy as np"
   ]
  },
  {
   "cell_type": "markdown",
   "metadata": {},
   "source": [
    "Path"
   ]
  },
  {
   "cell_type": "code",
   "execution_count": null,
   "metadata": {},
   "outputs": [],
   "source": [
    "dir_main = r\"C:\\Users\\user\\Desktop\\Projects\\PASD_Deteksi_Penyakit_Tanaman\\Dataset_Segmented\"\n",
    "\n",
    "dir_dataset = dir_main+\"/raw\"\n",
    "\n",
    "dir_train = dir_main+\"/train\"\n",
    "dir_val = dir_main+\"/val\"\n",
    "dir_test = dir_main+\"/test\"\n",
    "\n",
    "df_train = pd.read_excel(dir_main+\"/split/train.xlsx\")\n",
    "df_val = pd.read_excel(dir_main+\"/split/val.xlsx\")\n",
    "df_test = pd.read_excel(dir_main+\"/split/test.xlsx\")"
   ]
  },
  {
   "cell_type": "markdown",
   "metadata": {},
   "source": [
    "# Preprocessing"
   ]
  },
  {
   "cell_type": "markdown",
   "metadata": {},
   "source": [
    "Create Folders"
   ]
  },
  {
   "cell_type": "code",
   "execution_count": 4,
   "metadata": {},
   "outputs": [],
   "source": [
    "for folder in [\"train\", \"val\", \"test\"]:\n",
    "    if folder not in os.listdir(dir_main):\n",
    "        os.mkdir(os.path.join(dir_main, folder))"
   ]
  },
  {
   "cell_type": "markdown",
   "metadata": {},
   "source": [
    "Move val data"
   ]
  },
  {
   "cell_type": "code",
   "execution_count": 5,
   "metadata": {},
   "outputs": [
    {
     "ename": "FileNotFoundError",
     "evalue": "[Errno 2] No such file or directory: 'C:\\\\Users\\\\Lulay\\\\Desktop\\\\Projects\\\\LabAI_SG_Tugas_Besar\\\\Dataset_Segmented/raw\\\\Tomato___Late_blight\\\\76ca83b8-0695-470d-a715-2fcb9efb4fc4___RS_Late.B 5062.JPG'",
     "output_type": "error",
     "traceback": [
      "\u001b[1;31m---------------------------------------------------------------------------\u001b[0m",
      "\u001b[1;31mFileNotFoundError\u001b[0m                         Traceback (most recent call last)",
      "Cell \u001b[1;32mIn[5], line 9\u001b[0m\n\u001b[0;32m      7\u001b[0m dir_image_in \u001b[38;5;241m=\u001b[39m os\u001b[38;5;241m.\u001b[39mpath\u001b[38;5;241m.\u001b[39mjoin(dir_dataset, label, file)\n\u001b[0;32m      8\u001b[0m dir_image_out \u001b[38;5;241m=\u001b[39m os\u001b[38;5;241m.\u001b[39mpath\u001b[38;5;241m.\u001b[39mjoin(dir_val, label, file)\n\u001b[1;32m----> 9\u001b[0m \u001b[43mshutil\u001b[49m\u001b[38;5;241;43m.\u001b[39;49m\u001b[43mcopyfile\u001b[49m\u001b[43m(\u001b[49m\u001b[43mdir_image_in\u001b[49m\u001b[43m,\u001b[49m\u001b[43m \u001b[49m\u001b[43mdir_image_out\u001b[49m\u001b[43m)\u001b[49m\n",
      "File \u001b[1;32mc:\\Program Files\\Python312\\Lib\\shutil.py:260\u001b[0m, in \u001b[0;36mcopyfile\u001b[1;34m(src, dst, follow_symlinks)\u001b[0m\n\u001b[0;32m    258\u001b[0m     os\u001b[38;5;241m.\u001b[39msymlink(os\u001b[38;5;241m.\u001b[39mreadlink(src), dst)\n\u001b[0;32m    259\u001b[0m \u001b[38;5;28;01melse\u001b[39;00m:\n\u001b[1;32m--> 260\u001b[0m     \u001b[38;5;28;01mwith\u001b[39;00m \u001b[38;5;28;43mopen\u001b[39;49m\u001b[43m(\u001b[49m\u001b[43msrc\u001b[49m\u001b[43m,\u001b[49m\u001b[43m \u001b[49m\u001b[38;5;124;43m'\u001b[39;49m\u001b[38;5;124;43mrb\u001b[39;49m\u001b[38;5;124;43m'\u001b[39;49m\u001b[43m)\u001b[49m \u001b[38;5;28;01mas\u001b[39;00m fsrc:\n\u001b[0;32m    261\u001b[0m         \u001b[38;5;28;01mtry\u001b[39;00m:\n\u001b[0;32m    262\u001b[0m             \u001b[38;5;28;01mwith\u001b[39;00m \u001b[38;5;28mopen\u001b[39m(dst, \u001b[38;5;124m'\u001b[39m\u001b[38;5;124mwb\u001b[39m\u001b[38;5;124m'\u001b[39m) \u001b[38;5;28;01mas\u001b[39;00m fdst:\n\u001b[0;32m    263\u001b[0m                 \u001b[38;5;66;03m# macOS\u001b[39;00m\n",
      "\u001b[1;31mFileNotFoundError\u001b[0m: [Errno 2] No such file or directory: 'C:\\\\Users\\\\Lulay\\\\Desktop\\\\Projects\\\\LabAI_SG_Tugas_Besar\\\\Dataset_Segmented/raw\\\\Tomato___Late_blight\\\\76ca83b8-0695-470d-a715-2fcb9efb4fc4___RS_Late.B 5062.JPG'"
     ]
    }
   ],
   "source": [
    "for label in df_val[\"label\"].unique():\n",
    "    if label not in os.listdir(dir_val):\n",
    "        os.mkdir(os.path.join(dir_val, label))\n",
    "        \n",
    "    files = df_val[df_val[\"label\"] == label][\"file_name\"]\n",
    "    for file in files:\n",
    "        dir_image_in = os.path.join(dir_dataset, label, file)\n",
    "        dir_image_out = os.path.join(dir_val, label, file)\n",
    "        shutil.copyfile(dir_image_in, dir_image_out)"
   ]
  },
  {
   "cell_type": "markdown",
   "metadata": {},
   "source": [
    "Move test data"
   ]
  },
  {
   "cell_type": "code",
   "execution_count": 6,
   "metadata": {},
   "outputs": [],
   "source": [
    "for label in df_test[\"label\"].unique():\n",
    "    if label not in os.listdir(dir_test):\n",
    "        os.mkdir(os.path.join(dir_test, label))\n",
    "        \n",
    "    files = df_test[df_test[\"label\"] == label][\"file_name\"]\n",
    "    for file in files:\n",
    "        dir_image_in = os.path.join(dir_dataset, label, file)\n",
    "        dir_image_out = os.path.join(dir_test, label, file)\n",
    "        shutil.copyfile(dir_image_in, dir_image_out)"
   ]
  },
  {
   "cell_type": "markdown",
   "metadata": {},
   "source": [
    "Move train data"
   ]
  },
  {
   "cell_type": "code",
   "execution_count": 7,
   "metadata": {},
   "outputs": [],
   "source": [
    "for label in df_train[\"label\"].unique():\n",
    "    if label not in os.listdir(dir_train):\n",
    "        os.mkdir(os.path.join(dir_train, label))\n",
    "        \n",
    "    files = df_train[df_train[\"label\"] == label][\"file_name\"]\n",
    "    for file in files:\n",
    "        dir_image_in = os.path.join(dir_dataset, label, file)\n",
    "        dir_image_out = os.path.join(dir_train, label, file)\n",
    "        shutil.copyfile(dir_image_in, dir_image_out)"
   ]
  },
  {
   "cell_type": "markdown",
   "metadata": {},
   "source": [
    "# Checking"
   ]
  },
  {
   "cell_type": "code",
   "execution_count": 8,
   "metadata": {},
   "outputs": [
    {
     "name": "stdout",
     "output_type": "stream",
     "text": [
      "Val Dataset\n",
      "Tomato___Bacterial_spot 213\n",
      "Tomato___Early_blight 100\n",
      "Tomato___healthy 159\n",
      "Tomato___Late_blight 191\n",
      "Tomato___Leaf_Mold 96\n",
      "Tomato___Septoria_leaf_spot 177\n",
      "Tomato___Spider_mites Two-spotted_spider_mite 167\n",
      "Tomato___Target_Spot 140\n",
      "Tomato___Tomato_mosaic_virus 37\n",
      "Tomato___Tomato_Yellow_Leaf_Curl_Virus 536\n",
      "1816 1816\n",
      "\n",
      "Test Dataset\n",
      "Tomato___Bacterial_spot 213\n",
      "Tomato___Early_blight 100\n",
      "Tomato___healthy 159\n",
      "Tomato___Late_blight 191\n",
      "Tomato___Leaf_Mold 96\n",
      "Tomato___Septoria_leaf_spot 177\n",
      "Tomato___Spider_mites Two-spotted_spider_mite 167\n",
      "Tomato___Target_Spot 140\n",
      "Tomato___Tomato_mosaic_virus 37\n",
      "Tomato___Tomato_Yellow_Leaf_Curl_Virus 536\n",
      "1816 1816\n",
      "\n",
      "Train Dataset\n",
      "Tomato___Bacterial_spot 213\n",
      "Tomato___Early_blight 100\n",
      "Tomato___healthy 159\n",
      "Tomato___Late_blight 191\n",
      "Tomato___Leaf_Mold 96\n",
      "Tomato___Septoria_leaf_spot 177\n",
      "Tomato___Spider_mites Two-spotted_spider_mite 167\n",
      "Tomato___Target_Spot 140\n",
      "Tomato___Tomato_mosaic_virus 37\n",
      "Tomato___Tomato_Yellow_Leaf_Curl_Virus 536\n",
      "14528 14528\n"
     ]
    }
   ],
   "source": [
    "print(\"Val Dataset\")\n",
    "total = 0\n",
    "for folder in os.listdir(dir_val):\n",
    "    print(folder, len(os.listdir(os.path.join(dir_val, folder))))\n",
    "    total += len(os.listdir(os.path.join(dir_val, folder)))\n",
    "print(total, len(df_val))\n",
    "\n",
    "print(\"\\nTest Dataset\")\n",
    "total = 0\n",
    "for folder in os.listdir(dir_test):\n",
    "    print(folder, len(os.listdir(os.path.join(dir_val, folder))))\n",
    "    total += len(os.listdir(os.path.join(dir_test, folder)))\n",
    "print(total, len(df_test))\n",
    "\n",
    "print(\"\\nTrain Dataset\")\n",
    "total = 0\n",
    "for folder in os.listdir(dir_train):\n",
    "    print(folder, len(os.listdir(os.path.join(dir_val, folder))))\n",
    "    total += len(os.listdir(os.path.join(dir_train, folder)))\n",
    "print(total, len(df_train))"
   ]
  }
 ],
 "metadata": {
  "kernelspec": {
   "display_name": "Python 3",
   "language": "python",
   "name": "python3"
  },
  "language_info": {
   "codemirror_mode": {
    "name": "ipython",
    "version": 3
   },
   "file_extension": ".py",
   "mimetype": "text/x-python",
   "name": "python",
   "nbconvert_exporter": "python",
   "pygments_lexer": "ipython3",
   "version": "3.12.4"
  }
 },
 "nbformat": 4,
 "nbformat_minor": 2
}
